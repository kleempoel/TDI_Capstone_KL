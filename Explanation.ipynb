{
 "cells": [
  {
   "cell_type": "markdown",
   "metadata": {},
   "source": [
    "# Description of the project\n",
    "\n",
    "## Data science in health genomics\n",
    "Most genetic association studies rely on small datasets, both in terms of participants and genetic resolution. Therefore, the outcome is often focused on particular genetic variants showing a strong difference in frequency between cases and controls. Typically, these variants are identified in Genome Wide Association Studies (GWAS), where frequencies of genetic variants are compared between cases and controls\n",
    "\n",
    "<img src=\"images/Popgen_pitch_gwas.png\" />\n",
    "\n",
    "However, most diseases cause multiple gene mutations and, when using these traditional methods, it is tremendously time-consuming to uncover all the gene combinations related to a given disease.\n",
    "\n",
    "Only recently have trials of thousands of participants and millions of genetic variants enabled for finer resolution. These new studies have two main goals:\n",
    "\n",
    "* Create accurate patient profile to provide precisely targeted treatment and improve prevention\n",
    "* Learning more about the complexity of human genes.\n",
    "\n",
    "To achieve these goals, researchers have explored machine learning techniques, such as random forest, to reveal the most likely combinations of genetic variants related to a disease, allowing more accurate diagnosis and time-saving when investigating treatments."
   ]
  },
  {
   "cell_type": "markdown",
   "metadata": {},
   "source": [
    "* **Machine Learning** has already improved predictive abilities for complex diseases.\n",
    "* **Machine Learning**, and **Deep Learning** in particular, have fewer assumptions about the signatures of selection.\n",
    "\n",
    "\n",
    "These approaches are a core component of **Precision medicine**: tailored medical treatments based on patients characteristics.\n",
    "\n",
    "**Machine Learning** will improve risk prediction models and therefore prevention and costly medical screening procedures."
   ]
  },
  {
   "cell_type": "markdown",
   "metadata": {},
   "source": [
    "## Novelty\n",
    "It is frequent that one person has genetic variants suggesting an increased risk for a given disease, while other may suggest a decreasing risk.\n",
    "We also know that But we multiple genes are involved in diseases, but many are probably missed because their effect is not strong enough to be detected with current methods and datasets.\n",
    "As such, predictions can be inacurrate.\n",
    "\n",
    "But with \n",
    "    1. More individuals \n",
    "    2. Complete coverage of the genome\n",
    "    3. and Models incorporating the complexity of genetic relations\n",
    "Predictions should improve \n",
    "\n",
    "This implies a change in method, as we relied on comparisons of frequencies and logistic regressions to identify individual genetic markers associated to a disease."
   ]
  },
  {
   "cell_type": "markdown",
   "metadata": {},
   "source": [
    "## Deliverables\n",
    "My goal is to explore the potential of **Data Science**, and **Machine Learning** in particular, for the prediction of genetic diseases in clinical genomics\n",
    "1. I am hereby publishing my results and the tools I used in hope they will be useful to other researchers and clinicians.\n",
    "\n",
    "2. I am also sharing my scripts and providing **Interactive Tools** to speed up data exploration."
   ]
  },
  {
   "cell_type": "markdown",
   "metadata": {},
   "source": [
    "## Project"
   ]
  },
  {
   "cell_type": "markdown",
   "metadata": {},
   "source": [
    "Current studies rely on Genome Wide Association Studies (GWAS) to identify outlier genetic variants between case and control groups\n",
    "\n",
    "<img src=\"images/Popgen_w3_gwas.png\" />\n",
    "\n",
    "Taking advantage of the increasing resolution and sample size, recent studies have been exploring the benefits of Machine and Deep Learning to predict predispositions to diseases more accurately.\n",
    "\n",
    "In addition, models have become more accurate and complex with the inclusion of population structure covariates.\n",
    "\n",
    "Once the prediction has been validated on the testing set part of the trial, the prediction can be extented to the global population, by taking advantage of the genetic data from the __[1000 genome project](https://www.internationalgenome.org/home)__\n",
    "\n",
    "<img src=\"images/Popgen_w3_ml.png\" />"
   ]
  },
  {
   "cell_type": "markdown",
   "metadata": {},
   "source": [
    "## Data science tools \n",
    "\n",
    "### Packages\n",
    "* `pandas`: Pandas is the most common python package to deal with dataframes\n",
    "https://pandas.pydata.org/\n",
    "* `pandas_plink`: python package to read plink files\n",
    "https://pypi.org/project/pandas-plink/\n",
    "* `scikit-learn`: Most common machine learning package in python\n",
    "https://scikit-learn.org/stable/index.html\n",
    "* `seaborn`: Data visualization package, oriented towards pandas dataframes. https://seaborn.pydata.org/\n",
    "\n",
    "### Functions\n",
    "* `SimpleImputer`: Imputation transformer for completing missing values. From `scikit-learn`\n",
    "* `OneHotEncoder`: Encodes categorical values in numerical arrays. Can be used to encode each of the 3 SNPs genotypes. From `scikit-learn`\n",
    "* `Pipeline`: A pipeline consist in a sequential list of transformers and an estimator. From `scikit-learn`\n",
    "* `train_test_split`: Split the dataset (X and y) in a training and testing set, usually in a 70/30 or 80/20 ratio. This step was done in R with a similar function before the GWAS. From `scikit-learn`\n",
    "* **n_jobs**: Control the number of parallelized jobs for machine learning. Used in `RandomizedSearchCV`\n",
    "\n",
    "### Machine learning using `scikit-learn`\n",
    "* `Random Forest Classifier`: Decision tree classifier. A number of parameters were optimized with `RandomizedSearchCV`\n",
    "* `RandomizedSearchCV`: Randomized search to optimize the parameters of the estimator or pipeline (`Random Forest Classifier` in this case)\n",
    "    * **n_snps**: The number of SNPs considered in the model (X)\n",
    "    * **max_depth**: The maximum depth of the tree\n",
    "    * **n_estimators**: The number of trees in the forest\n",
    "    * **min_samples_split**: The minimum number of samples required to split an internal node\n",
    "    * **min_samples_leaf**: The minimum number of samples required to be at a leaf node. \n",
    "\n",
    "* Accuracy and overfitting:\n",
    "    * cross-validation. set to 5 in `RandomizedSearchCV`\n",
    "    * Iterations. 2000 iterations in `RandomizedSearchCV`\n",
    "    * Accuracy\n",
    "    * Recall\n",
    "    * Confusion Matrix\n",
    "    "
   ]
  },
  {
   "cell_type": "markdown",
   "metadata": {},
   "source": [
    "### Simulations\n",
    "Simulations were performed with __[plink](http://zzz.bwh.harvard.edu/plink/)__ for:\n",
    "* 4000 individuals \n",
    "    * 2000 cases / 2000 controls\n",
    "\n",
    "\n",
    "* 1 000 000 genetic variants\n",
    "    * 100 of them are simulating a disease\n",
    "\n",
    "\n",
    "* Split training and testing set 80/20\n"
   ]
  },
  {
   "cell_type": "markdown",
   "metadata": {},
   "source": [
    "### Genome Wide Association Study\n",
    "Most common approach in clinical studies. In a GWAS, the frequency of genetic variants is compared between case and control groups and outliers are identified.\n",
    "\n",
    "<img src=\"images/manhattan plot unadjusted assoc train.png\" />\n",
    "\n",
    "Manhattan plot used to identify of genetic variants associated to a disease. The X-axis represents the 23 human chrosomes, and the Y axis the p-value associated with each genetic variant. \n",
    "\n",
    "Variants simulating the disease are marked in green.\n"
   ]
  },
  {
   "cell_type": "markdown",
   "metadata": {},
   "source": [
    "### Machine Learning\n",
    "The script and results for the machine learning part can be found in the following notebook:\n",
    "\n",
    "__[Jupyter notebook on the Random Forest and Gradient Boosting Classifier](Scripts/RandomForest_HumanSimulation.ipynb)__"
   ]
  },
  {
   "cell_type": "markdown",
   "metadata": {},
   "source": [
    "### Local adaptation of Ugandan Cattle\n",
    "The script and results for this part of the projectcan be found in the following notebook:\n",
    "\n",
    "__[Jupyter notebook on the Random Forest and Gradient Boosting Classifier](Scripts/UGBT.ipynb)__"
   ]
  },
  {
   "cell_type": "markdown",
   "metadata": {},
   "source": [
    "## Ressources\n",
    "About Random Forest Classifiers\n",
    "* https://stackabuse.com/random-forest-algorithm-with-python-and-scikit-learn/\n",
    "* https://towardsdatascience.com/an-implementation-and-explanation-of-the-random-forest-in-python-77bf308a9b76\n",
    "* https://www.datacamp.com/community/tutorials/random-forests-classifier-python\n",
    "\n",
    "\n",
    "About overfitting and control\n",
    "* https://elitedatascience.com/overfitting-in-machine-learning\n",
    "* https://scikit-learn.org/stable/modules/cross_validation.html"
   ]
  }
 ],
 "metadata": {
  "kernelspec": {
   "display_name": "Python 3",
   "language": "python",
   "name": "python3"
  },
  "language_info": {
   "codemirror_mode": {
    "name": "ipython",
    "version": 3
   },
   "file_extension": ".py",
   "mimetype": "text/x-python",
   "name": "python",
   "nbconvert_exporter": "python",
   "pygments_lexer": "ipython3",
   "version": "3.7.5"
  }
 },
 "nbformat": 4,
 "nbformat_minor": 2
}
