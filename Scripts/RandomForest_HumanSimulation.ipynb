{
 "cells": [
  {
   "cell_type": "code",
   "execution_count": 1,
   "metadata": {},
   "outputs": [],
   "source": [
    "#http://zzz.bwh.harvard.edu/plink/simulate.shtml"
   ]
  },
  {
   "cell_type": "markdown",
   "metadata": {},
   "source": [
    "## Import packages and data"
   ]
  },
  {
   "cell_type": "code",
   "execution_count": 50,
   "metadata": {},
   "outputs": [],
   "source": [
    "import numpy as np\n",
    "import pandas as pd\n",
    "import matplotlib\n",
    "\n",
    "from matplotlib.colors import ListedColormap\n",
    "from pandas_plink import read_plink1_bin\n",
    "from sklearn.model_selection import train_test_split\n",
    "from sklearn import metrics\n",
    "\n",
    "%matplotlib inline\n",
    "import matplotlib.pyplot as plt\n",
    "import seaborn as sns\n",
    "sns.set()\n",
    "matplotlib.rcParams['figure.dpi'] = 200"
   ]
  },
  {
   "cell_type": "code",
   "execution_count": 3,
   "metadata": {
    "scrolled": true
   },
   "outputs": [
    {
     "name": "stdout",
     "output_type": "stream",
     "text": [
      "<xarray.DataArray 'genotype' (sample: 2800, variant: 25002)>\n",
      "dask.array<transpose, shape=(2800, 25002), dtype=float64, chunksize=(1024, 1024), chunktype=numpy.ndarray>\n",
      "Coordinates:\n",
      "  * sample   (sample) object 'per0' 'per1' 'per2' ... 'per3998' 'per3999'\n",
      "  * variant  (variant) object '1_neutral_D_191527' ... '22_neutral_D_47588'\n",
      "    fid      (sample) <U7 'per0' 'per1' 'per2' ... 'per3996' 'per3998' 'per3999'\n",
      "    iid      (sample) <U7 'per0' 'per1' 'per2' ... 'per3996' 'per3998' 'per3999'\n",
      "    father   (sample) <U1 '0' '0' '0' '0' '0' '0' ... '0' '0' '0' '0' '0' '0'\n",
      "    mother   (sample) <U1 '0' '0' '0' '0' '0' '0' ... '0' '0' '0' '0' '0' '0'\n",
      "    gender   (sample) <U1 '2' '2' '2' '2' '2' '2' ... '2' '2' '2' '2' '2' '2'\n",
      "    trait    (sample) float64 2.0 2.0 2.0 2.0 2.0 2.0 ... 1.0 1.0 1.0 1.0 1.0\n",
      "    chrom    (variant) <U2 '1' '1' '1' '1' '1' '1' ... '22' '22' '22' '22' '22'\n",
      "    snp      (variant) <U16 'neutral_D_191527' ... 'neutral_D_47588'\n",
      "    cm       (variant) float64 0.0 0.0 0.0 0.0 0.0 0.0 ... 0.0 0.0 0.0 0.0 0.0\n",
      "    pos      (variant) int64 1011209 1031563 1039813 ... 49205679 49411282\n",
      "    a0       (variant) <U1 'G' 'G' 'G' 'A' 'T' 'G' ... 'C' 'A' 'T' 'A' 'C' 'C'\n",
      "    a1       (variant) <U1 'A' 'A' 'A' 'G' 'G' 'A' ... 'A' 'G' 'C' 'G' 'G' 'T'\n"
     ]
    }
   ],
   "source": [
    "G_train = read_plink1_bin(\"Data/sim_ceu_train_top.bed\", \"Data/sim_ceu_train_top.bim\", \n",
    "                    \"Data/sim_ceu_train_top.fam\", verbose=False)\n",
    "print(G_train)"
   ]
  },
  {
   "cell_type": "code",
   "execution_count": 4,
   "metadata": {},
   "outputs": [
    {
     "name": "stdout",
     "output_type": "stream",
     "text": [
      "[2. 2. 2. ... 1. 1. 1.]\n",
      "2800\n",
      "1415\n",
      "1385\n"
     ]
    }
   ],
   "source": [
    "y_train=np.array(G_train.trait)\n",
    "print(y_train)\n",
    "print(len(y_train))\n",
    "print(len(y_train[y_train==1]))\n",
    "print(len(y_train[y_train==2]))"
   ]
  },
  {
   "cell_type": "code",
   "execution_count": 5,
   "metadata": {},
   "outputs": [],
   "source": [
    "X_train=np.array(G_train.values)"
   ]
  },
  {
   "cell_type": "code",
   "execution_count": 6,
   "metadata": {},
   "outputs": [
    {
     "name": "stdout",
     "output_type": "stream",
     "text": [
      "1200\n",
      "585\n",
      "615\n"
     ]
    }
   ],
   "source": [
    "G_test = read_plink1_bin(\"Data/sim_ceu_test_top.bed\", \"Data/sim_ceu_test_top.bim\", \n",
    "                    \"Data/sim_ceu_test_top.fam\", verbose=False)\n",
    "y_test=np.array(G_test.trait)\n",
    "print(len(y_test))\n",
    "print(len(y_test[y_test==1]))\n",
    "print(len(y_test[y_test==2]))\n",
    "X_test=np.array(G_test.values)"
   ]
  },
  {
   "cell_type": "code",
   "execution_count": 7,
   "metadata": {},
   "outputs": [
    {
     "data": {
      "text/html": [
       "<div>\n",
       "<style scoped>\n",
       "    .dataframe tbody tr th:only-of-type {\n",
       "        vertical-align: middle;\n",
       "    }\n",
       "\n",
       "    .dataframe tbody tr th {\n",
       "        vertical-align: top;\n",
       "    }\n",
       "\n",
       "    .dataframe thead th {\n",
       "        text-align: right;\n",
       "    }\n",
       "</style>\n",
       "<table border=\"1\" class=\"dataframe\">\n",
       "  <thead>\n",
       "    <tr style=\"text-align: right;\">\n",
       "      <th></th>\n",
       "      <th>index</th>\n",
       "      <th>chr</th>\n",
       "      <th>snp</th>\n",
       "      <th>bp</th>\n",
       "      <th>A1</th>\n",
       "      <th>F_A</th>\n",
       "      <th>F_U</th>\n",
       "      <th>A2</th>\n",
       "      <th>CHISQ</th>\n",
       "      <th>P</th>\n",
       "      <th>OR</th>\n",
       "      <th>logp</th>\n",
       "      <th>chr_snp</th>\n",
       "    </tr>\n",
       "  </thead>\n",
       "  <tbody>\n",
       "    <tr>\n",
       "      <th>0</th>\n",
       "      <td>25001</td>\n",
       "      <td>6</td>\n",
       "      <td>disease_he_15</td>\n",
       "      <td>9952975</td>\n",
       "      <td>C</td>\n",
       "      <td>0.16750</td>\n",
       "      <td>0.08657</td>\n",
       "      <td>T</td>\n",
       "      <td>82.930</td>\n",
       "      <td>8.511000e-20</td>\n",
       "      <td>2.1230</td>\n",
       "      <td>19.070019</td>\n",
       "      <td>6_disease_he_15</td>\n",
       "    </tr>\n",
       "    <tr>\n",
       "      <th>1</th>\n",
       "      <td>25000</td>\n",
       "      <td>16</td>\n",
       "      <td>disease_he_30</td>\n",
       "      <td>67967324</td>\n",
       "      <td>C</td>\n",
       "      <td>0.13900</td>\n",
       "      <td>0.07173</td>\n",
       "      <td>T</td>\n",
       "      <td>67.380</td>\n",
       "      <td>2.236000e-16</td>\n",
       "      <td>2.0890</td>\n",
       "      <td>15.650528</td>\n",
       "      <td>16_disease_he_30</td>\n",
       "    </tr>\n",
       "    <tr>\n",
       "      <th>2</th>\n",
       "      <td>24999</td>\n",
       "      <td>1</td>\n",
       "      <td>disease_he_41</td>\n",
       "      <td>234783582</td>\n",
       "      <td>C</td>\n",
       "      <td>0.16930</td>\n",
       "      <td>0.09576</td>\n",
       "      <td>T</td>\n",
       "      <td>66.040</td>\n",
       "      <td>4.420000e-16</td>\n",
       "      <td>1.9250</td>\n",
       "      <td>15.354578</td>\n",
       "      <td>1_disease_he_41</td>\n",
       "    </tr>\n",
       "    <tr>\n",
       "      <th>3</th>\n",
       "      <td>24998</td>\n",
       "      <td>16</td>\n",
       "      <td>disease_he_3</td>\n",
       "      <td>5594041</td>\n",
       "      <td>C</td>\n",
       "      <td>0.15780</td>\n",
       "      <td>0.08834</td>\n",
       "      <td>A</td>\n",
       "      <td>62.680</td>\n",
       "      <td>2.428000e-15</td>\n",
       "      <td>1.9330</td>\n",
       "      <td>14.614751</td>\n",
       "      <td>16_disease_he_3</td>\n",
       "    </tr>\n",
       "    <tr>\n",
       "      <th>4</th>\n",
       "      <td>24997</td>\n",
       "      <td>4</td>\n",
       "      <td>disease_he_17</td>\n",
       "      <td>152830399</td>\n",
       "      <td>G</td>\n",
       "      <td>0.10140</td>\n",
       "      <td>0.04664</td>\n",
       "      <td>A</td>\n",
       "      <td>61.540</td>\n",
       "      <td>4.336000e-15</td>\n",
       "      <td>2.3080</td>\n",
       "      <td>14.362911</td>\n",
       "      <td>4_disease_he_17</td>\n",
       "    </tr>\n",
       "    <tr>\n",
       "      <th>...</th>\n",
       "      <td>...</td>\n",
       "      <td>...</td>\n",
       "      <td>...</td>\n",
       "      <td>...</td>\n",
       "      <td>...</td>\n",
       "      <td>...</td>\n",
       "      <td>...</td>\n",
       "      <td>...</td>\n",
       "      <td>...</td>\n",
       "      <td>...</td>\n",
       "      <td>...</td>\n",
       "      <td>...</td>\n",
       "      <td>...</td>\n",
       "    </tr>\n",
       "    <tr>\n",
       "      <th>24997</th>\n",
       "      <td>1</td>\n",
       "      <td>3</td>\n",
       "      <td>neutral_B_57276</td>\n",
       "      <td>59157063</td>\n",
       "      <td>G</td>\n",
       "      <td>0.07545</td>\n",
       "      <td>0.06219</td>\n",
       "      <td>T</td>\n",
       "      <td>3.845</td>\n",
       "      <td>4.991000e-02</td>\n",
       "      <td>1.2310</td>\n",
       "      <td>1.301812</td>\n",
       "      <td>3_neutral_B_57276</td>\n",
       "    </tr>\n",
       "    <tr>\n",
       "      <th>24998</th>\n",
       "      <td>5</td>\n",
       "      <td>19</td>\n",
       "      <td>neutral_B_120957</td>\n",
       "      <td>52923460</td>\n",
       "      <td>T</td>\n",
       "      <td>0.07545</td>\n",
       "      <td>0.06219</td>\n",
       "      <td>C</td>\n",
       "      <td>3.845</td>\n",
       "      <td>4.991000e-02</td>\n",
       "      <td>1.2310</td>\n",
       "      <td>1.301812</td>\n",
       "      <td>19_neutral_B_120957</td>\n",
       "    </tr>\n",
       "    <tr>\n",
       "      <th>24999</th>\n",
       "      <td>6</td>\n",
       "      <td>22</td>\n",
       "      <td>neutral_B_4912</td>\n",
       "      <td>15849026</td>\n",
       "      <td>A</td>\n",
       "      <td>0.04693</td>\n",
       "      <td>0.05866</td>\n",
       "      <td>G</td>\n",
       "      <td>3.845</td>\n",
       "      <td>4.991000e-02</td>\n",
       "      <td>0.7903</td>\n",
       "      <td>1.301812</td>\n",
       "      <td>22_neutral_B_4912</td>\n",
       "    </tr>\n",
       "    <tr>\n",
       "      <th>25000</th>\n",
       "      <td>7</td>\n",
       "      <td>22</td>\n",
       "      <td>neutral_A_498329</td>\n",
       "      <td>31205871</td>\n",
       "      <td>G</td>\n",
       "      <td>0.04693</td>\n",
       "      <td>0.05866</td>\n",
       "      <td>A</td>\n",
       "      <td>3.845</td>\n",
       "      <td>4.991000e-02</td>\n",
       "      <td>0.7903</td>\n",
       "      <td>1.301812</td>\n",
       "      <td>22_neutral_A_498329</td>\n",
       "    </tr>\n",
       "    <tr>\n",
       "      <th>25001</th>\n",
       "      <td>0</td>\n",
       "      <td>3</td>\n",
       "      <td>neutral_B_133767</td>\n",
       "      <td>40672301</td>\n",
       "      <td>G</td>\n",
       "      <td>0.04693</td>\n",
       "      <td>0.05866</td>\n",
       "      <td>A</td>\n",
       "      <td>3.845</td>\n",
       "      <td>4.991000e-02</td>\n",
       "      <td>0.7903</td>\n",
       "      <td>1.301812</td>\n",
       "      <td>3_neutral_B_133767</td>\n",
       "    </tr>\n",
       "  </tbody>\n",
       "</table>\n",
       "<p>25002 rows × 13 columns</p>\n",
       "</div>"
      ],
      "text/plain": [
       "       index  chr               snp         bp A1      F_A      F_U A2  \\\n",
       "0      25001    6     disease_he_15    9952975  C  0.16750  0.08657  T   \n",
       "1      25000   16     disease_he_30   67967324  C  0.13900  0.07173  T   \n",
       "2      24999    1     disease_he_41  234783582  C  0.16930  0.09576  T   \n",
       "3      24998   16      disease_he_3    5594041  C  0.15780  0.08834  A   \n",
       "4      24997    4     disease_he_17  152830399  G  0.10140  0.04664  A   \n",
       "...      ...  ...               ...        ... ..      ...      ... ..   \n",
       "24997      1    3   neutral_B_57276   59157063  G  0.07545  0.06219  T   \n",
       "24998      5   19  neutral_B_120957   52923460  T  0.07545  0.06219  C   \n",
       "24999      6   22    neutral_B_4912   15849026  A  0.04693  0.05866  G   \n",
       "25000      7   22  neutral_A_498329   31205871  G  0.04693  0.05866  A   \n",
       "25001      0    3  neutral_B_133767   40672301  G  0.04693  0.05866  A   \n",
       "\n",
       "        CHISQ             P      OR       logp              chr_snp  \n",
       "0      82.930  8.511000e-20  2.1230  19.070019      6_disease_he_15  \n",
       "1      67.380  2.236000e-16  2.0890  15.650528     16_disease_he_30  \n",
       "2      66.040  4.420000e-16  1.9250  15.354578      1_disease_he_41  \n",
       "3      62.680  2.428000e-15  1.9330  14.614751      16_disease_he_3  \n",
       "4      61.540  4.336000e-15  2.3080  14.362911      4_disease_he_17  \n",
       "...       ...           ...     ...        ...                  ...  \n",
       "24997   3.845  4.991000e-02  1.2310   1.301812    3_neutral_B_57276  \n",
       "24998   3.845  4.991000e-02  1.2310   1.301812  19_neutral_B_120957  \n",
       "24999   3.845  4.991000e-02  0.7903   1.301812    22_neutral_B_4912  \n",
       "25000   3.845  4.991000e-02  0.7903   1.301812  22_neutral_A_498329  \n",
       "25001   3.845  4.991000e-02  0.7903   1.301812   3_neutral_B_133767  \n",
       "\n",
       "[25002 rows x 13 columns]"
      ]
     },
     "execution_count": 7,
     "metadata": {},
     "output_type": "execute_result"
    }
   ],
   "source": [
    "gwas=pd.read_table('Data/topSNPs.txt',header=None)\n",
    "gwas.columns=['chr','snp','bp','A1','F_A','F_U','A2','CHISQ','P','OR','logp']\n",
    "gwas['chr_snp']=gwas['chr'].map(str) + \"_\" + gwas['snp']\n",
    "gwas=gwas.sort_values(by=['logp'], ascending=False)\n",
    "gwas=gwas.reset_index()\n",
    "gwas"
   ]
  },
  {
   "cell_type": "markdown",
   "metadata": {},
   "source": [
    "## Testing pipeline"
   ]
  },
  {
   "cell_type": "code",
   "execution_count": 8,
   "metadata": {},
   "outputs": [
    {
     "name": "stdout",
     "output_type": "stream",
     "text": [
      "['6_disease_he_15', '16_disease_he_30', '1_disease_he_41', '16_disease_he_3', '4_disease_he_17']\n"
     ]
    },
    {
     "data": {
      "text/plain": [
       "[[9231], [21350], [1871], [20924], [7190]]"
      ]
     },
     "execution_count": 8,
     "metadata": {},
     "output_type": "execute_result"
    }
   ],
   "source": [
    "snp_names=list(np.array(G_train.variant))\n",
    "snp_keep=list(gwas.chr_snp[0:5])\n",
    "print(snp_keep)\n",
    "find = lambda searchList, elem: [[i for i, x in enumerate(searchList) if x == e] for e in elem]\n",
    "find(snp_names,snp_keep)"
   ]
  },
  {
   "cell_type": "code",
   "execution_count": 9,
   "metadata": {},
   "outputs": [],
   "source": [
    "from sklearn import base\n",
    "\n",
    "class subsnp(base.BaseEstimator, base.TransformerMixin):\n",
    "    \n",
    "    def __init__(self, n_snps, snp_assoc, snp_names):\n",
    "        self.n_snps = n_snps\n",
    "#         print(n_snps)\n",
    "        self.snp_assoc = snp_assoc\n",
    "        self.snp_names = snp_names\n",
    "    \n",
    "    def fit(self, X, y=None):\n",
    "        return self\n",
    "    \n",
    "    def transform(self, X):\n",
    "        # Return an array with the selected SNPs as X\n",
    "        find = lambda searchList, elem: [[i for i, x in enumerate(searchList) if x == e] for e in elem]\n",
    "        snp_ids=list(self.snp_assoc.chr_snp[0:self.n_snps])\n",
    "        snp_idx=find(self.snp_names,snp_ids)\n",
    "        snp_idx=[y for x in snp_idx for y in x]\n",
    "        X=X[:,snp_idx]\n",
    "#         print(X.shape)\n",
    "        return X"
   ]
  },
  {
   "cell_type": "code",
   "execution_count": 10,
   "metadata": {},
   "outputs": [
    {
     "name": "stdout",
     "output_type": "stream",
     "text": [
      "[[1. 2. 2. ... 2. 2. 1.]\n",
      " [1. 2. 2. ... 2. 2. 2.]\n",
      " [2. 2. 1. ... 2. 2. 1.]\n",
      " ...\n",
      " [2. 1. 2. ... 2. 2. 1.]\n",
      " [2. 2. 2. ... 2. 2. 2.]\n",
      " [2. 0. 2. ... 2. 2. 2.]]\n"
     ]
    }
   ],
   "source": [
    "snp_names=list(np.array(G_train.variant))\n",
    "snp_keep=list(gwas.chr_snp[0:5])\n",
    "n_snps=10\n",
    "subsnp_transform = subsnp(n_snps, gwas, snp_names)\n",
    "t=subsnp_transform.fit_transform(X_train)\n",
    "print(t)"
   ]
  },
  {
   "cell_type": "code",
   "execution_count": 11,
   "metadata": {},
   "outputs": [
    {
     "data": {
      "text/plain": [
       "dict_keys(['memory', 'steps', 'verbose', 'subsnp', 'reg', 'subsnp__n_snps', 'subsnp__snp_assoc', 'subsnp__snp_names', 'reg__bootstrap', 'reg__class_weight', 'reg__criterion', 'reg__max_depth', 'reg__max_features', 'reg__max_leaf_nodes', 'reg__min_impurity_decrease', 'reg__min_impurity_split', 'reg__min_samples_leaf', 'reg__min_samples_split', 'reg__min_weight_fraction_leaf', 'reg__n_estimators', 'reg__n_jobs', 'reg__oob_score', 'reg__random_state', 'reg__verbose', 'reg__warm_start'])"
      ]
     },
     "execution_count": 11,
     "metadata": {},
     "output_type": "execute_result"
    }
   ],
   "source": [
    "from sklearn.pipeline import Pipeline\n",
    "from sklearn.ensemble import RandomForestClassifier\n",
    "pipe_rfc = Pipeline([\n",
    "        # ColumnSelectTransformer\n",
    "    ('subsnp',subsnp(n_snps, gwas, snp_names)),\n",
    "        # KNeighborsRegressor\n",
    "    ('reg',RandomForestClassifier())\n",
    "    ])\n",
    "pipe_rfc.get_params().keys()"
   ]
  },
  {
   "cell_type": "code",
   "execution_count": 12,
   "metadata": {},
   "outputs": [
    {
     "name": "stdout",
     "output_type": "stream",
     "text": [
      "0.7410714285714286\n",
      "0.625\n"
     ]
    },
    {
     "name": "stderr",
     "output_type": "stream",
     "text": [
      "/opt/conda/envs/data3/lib/python3.7/site-packages/sklearn/ensemble/forest.py:245: FutureWarning: The default value of n_estimators will change from 10 in version 0.20 to 100 in 0.22.\n",
      "  \"10 in version 0.20 to 100 in 0.22.\", FutureWarning)\n"
     ]
    }
   ],
   "source": [
    "pipe_rfc.fit(X_train, y_train)\n",
    "print(pipe_rfc.score(X_train, y_train))\n",
    "print(pipe_rfc.score(X_test, y_test))"
   ]
  },
  {
   "cell_type": "code",
   "execution_count": 13,
   "metadata": {},
   "outputs": [
    {
     "name": "stdout",
     "output_type": "stream",
     "text": [
      "1.0\n",
      "0.7766666666666666\n"
     ]
    }
   ],
   "source": [
    "pipe_rfc.set_params(subsnp__n_snps=100, reg__max_depth=100,reg__n_estimators=1000).fit(X_train, y_train)\n",
    "pipe_rfc.fit(X_train, y_train)\n",
    "print(pipe_rfc.score(X_train, y_train))\n",
    "print(pipe_rfc.score(X_test, y_test))"
   ]
  },
  {
   "cell_type": "code",
   "execution_count": 14,
   "metadata": {},
   "outputs": [],
   "source": [
    "# Not needed because it's a simulation\n",
    "# from sklearn.impute import SimpleImputer\n",
    "# imp_mf = SimpleImputer(missing_values=np.nan, strategy='most_frequent')\n",
    "# print(SimpleImputer())\n",
    "# imp_mf.fit(X_train)\n",
    "# X_train=imp_mf.transform(X_train)\n",
    "# imp_mf.fit(X_test)\n",
    "# X_test=imp_mf.transform(X_test)"
   ]
  },
  {
   "cell_type": "code",
   "execution_count": 15,
   "metadata": {},
   "outputs": [],
   "source": [
    "# enc = OneHotEncoder(handle_unknown='ignore')\n",
    "# enc.fit(X_train)\n",
    "# X_train=enc.transform(X_train).toarray()\n",
    "# print(X_train.shape)\n",
    "# X_test=enc.transform(X_test).toarray()\n",
    "# print(X_test.shape)"
   ]
  },
  {
   "cell_type": "code",
   "execution_count": 16,
   "metadata": {},
   "outputs": [],
   "source": [
    "# enc.get_feature_names()\n",
    "# will need to map this back to the SNP names"
   ]
  },
  {
   "cell_type": "markdown",
   "metadata": {},
   "source": [
    "## Random Forest Classifier"
   ]
  },
  {
   "cell_type": "code",
   "execution_count": 76,
   "metadata": {},
   "outputs": [
    {
     "name": "stdout",
     "output_type": "stream",
     "text": [
      "{'subsnp__n_snps': [20, 40, 60, 80, 100, 120, 140, 160, 180, 200, 1000, 2000, 3000, 4000, 5000], 'reg__n_estimators': [1000, 2000], 'reg__max_depth': [20, 40, 60, 80, 100, 120, 140, 160, 180, 200, 1000, 2000, 3000, 4000, 5000], 'reg__min_samples_split': [10, 20, 30, 40], 'reg__min_samples_leaf': [1, 2, 4, 8]}\n",
      "7200\n"
     ]
    }
   ],
   "source": [
    "## Randomized search and random forest\n",
    "# Number of SNPs\n",
    "n_snps = [int(x) for x in np.linspace(20, 200, num = 10)]; n_snps.extend([int(x) for x in np.linspace(1000, 5000, num = 5)])\n",
    "# Number of trees in random forest\n",
    "n_estimators = [int(x) for x in np.linspace(start = 1000, stop = 2000, num = 2)]\n",
    "# Maximum number of levels in tree\n",
    "max_depth = [int(x) for x in np.linspace(20, 200, num = 10)]; \n",
    "max_depth.extend([int(x) for x in np.linspace(1000, 5000, num = 5)])\n",
    "# Minimum number of samples required to split a node\n",
    "min_samples_split = [int(x) for x in np.linspace(start = 10, stop = 40, num = 4)]\n",
    "# Minimum number of samples required at each leaf node\n",
    "min_samples_leaf = [1, 2, 4, 8]\n",
    "# Create the random grid\n",
    "random_grid = {'subsnp__n_snps': n_snps,\n",
    "               'reg__n_estimators': n_estimators,\n",
    "               'reg__max_depth': max_depth,\n",
    "               'reg__min_samples_split': min_samples_split,\n",
    "               'reg__min_samples_leaf': min_samples_leaf}\n",
    "print(random_grid)\n",
    "\n",
    "nb_par=1\n",
    "for key, value in random_grid.items():\n",
    "    nb_par*=len(value)\n",
    "print(nb_par)"
   ]
  },
  {
   "cell_type": "code",
   "execution_count": 77,
   "metadata": {},
   "outputs": [],
   "source": [
    "## Randomized search and random forest\n",
    "from sklearn.model_selection import RandomizedSearchCV\n",
    "from sklearn.ensemble import RandomForestClassifier\n",
    "from sklearn.metrics import accuracy_score, recall_score"
   ]
  },
  {
   "cell_type": "code",
   "execution_count": 81,
   "metadata": {},
   "outputs": [
    {
     "name": "stdout",
     "output_type": "stream",
     "text": [
      "Fitting 5 folds for each of 2000 candidates, totalling 10000 fits\n"
     ]
    },
    {
     "name": "stderr",
     "output_type": "stream",
     "text": [
      "[Parallel(n_jobs=4)]: Using backend LokyBackend with 4 concurrent workers.\n",
      "[Parallel(n_jobs=4)]: Done   5 tasks      | elapsed:   39.5s\n",
      "[Parallel(n_jobs=4)]: Done  10 tasks      | elapsed:   46.2s\n",
      "[Parallel(n_jobs=4)]: Done  17 tasks      | elapsed:  1.4min\n",
      "[Parallel(n_jobs=4)]: Done  24 tasks      | elapsed:  1.7min\n",
      "[Parallel(n_jobs=4)]: Done  33 tasks      | elapsed:  1.9min\n",
      "[Parallel(n_jobs=4)]: Done  42 tasks      | elapsed:  2.1min\n",
      "[Parallel(n_jobs=4)]: Done  53 tasks      | elapsed:  2.3min\n",
      "[Parallel(n_jobs=4)]: Done  64 tasks      | elapsed:  2.7min\n",
      "[Parallel(n_jobs=4)]: Done  77 tasks      | elapsed:  3.0min\n",
      "[Parallel(n_jobs=4)]: Done  90 tasks      | elapsed:  4.0min\n",
      "[Parallel(n_jobs=4)]: Done 105 tasks      | elapsed:  5.0min\n",
      "[Parallel(n_jobs=4)]: Done 120 tasks      | elapsed:  5.9min\n",
      "[Parallel(n_jobs=4)]: Done 137 tasks      | elapsed:  6.8min\n",
      "[Parallel(n_jobs=4)]: Done 154 tasks      | elapsed:  7.2min\n",
      "[Parallel(n_jobs=4)]: Done 173 tasks      | elapsed:  7.9min\n",
      "[Parallel(n_jobs=4)]: Done 192 tasks      | elapsed:  8.2min\n",
      "[Parallel(n_jobs=4)]: Done 213 tasks      | elapsed:  9.2min\n",
      "[Parallel(n_jobs=4)]: Done 234 tasks      | elapsed:  9.8min\n",
      "[Parallel(n_jobs=4)]: Done 257 tasks      | elapsed: 10.9min\n",
      "[Parallel(n_jobs=4)]: Done 280 tasks      | elapsed: 11.4min\n",
      "[Parallel(n_jobs=4)]: Done 305 tasks      | elapsed: 13.2min\n",
      "[Parallel(n_jobs=4)]: Done 330 tasks      | elapsed: 14.1min\n",
      "[Parallel(n_jobs=4)]: Done 357 tasks      | elapsed: 15.5min\n",
      "[Parallel(n_jobs=4)]: Done 384 tasks      | elapsed: 17.1min\n",
      "[Parallel(n_jobs=4)]: Done 413 tasks      | elapsed: 18.5min\n",
      "[Parallel(n_jobs=4)]: Done 442 tasks      | elapsed: 20.2min\n",
      "[Parallel(n_jobs=4)]: Done 473 tasks      | elapsed: 22.3min\n",
      "[Parallel(n_jobs=4)]: Done 504 tasks      | elapsed: 24.4min\n",
      "[Parallel(n_jobs=4)]: Done 537 tasks      | elapsed: 25.6min\n",
      "[Parallel(n_jobs=4)]: Done 570 tasks      | elapsed: 26.6min\n",
      "[Parallel(n_jobs=4)]: Done 605 tasks      | elapsed: 28.9min\n",
      "[Parallel(n_jobs=4)]: Done 640 tasks      | elapsed: 29.6min\n",
      "[Parallel(n_jobs=4)]: Done 677 tasks      | elapsed: 30.8min\n",
      "[Parallel(n_jobs=4)]: Done 714 tasks      | elapsed: 32.8min\n",
      "[Parallel(n_jobs=4)]: Done 753 tasks      | elapsed: 36.8min\n",
      "[Parallel(n_jobs=4)]: Done 792 tasks      | elapsed: 38.8min\n",
      "[Parallel(n_jobs=4)]: Done 833 tasks      | elapsed: 41.1min\n",
      "[Parallel(n_jobs=4)]: Done 874 tasks      | elapsed: 44.2min\n",
      "[Parallel(n_jobs=4)]: Done 917 tasks      | elapsed: 46.0min\n",
      "[Parallel(n_jobs=4)]: Done 960 tasks      | elapsed: 48.9min\n",
      "[Parallel(n_jobs=4)]: Done 1005 tasks      | elapsed: 50.4min\n",
      "[Parallel(n_jobs=4)]: Done 1050 tasks      | elapsed: 51.6min\n",
      "[Parallel(n_jobs=4)]: Done 1097 tasks      | elapsed: 53.5min\n",
      "[Parallel(n_jobs=4)]: Done 1144 tasks      | elapsed: 55.7min\n",
      "[Parallel(n_jobs=4)]: Done 1193 tasks      | elapsed: 57.2min\n",
      "[Parallel(n_jobs=4)]: Done 1242 tasks      | elapsed: 59.5min\n",
      "[Parallel(n_jobs=4)]: Done 1293 tasks      | elapsed: 62.0min\n",
      "[Parallel(n_jobs=4)]: Done 1344 tasks      | elapsed: 63.6min\n",
      "[Parallel(n_jobs=4)]: Done 1397 tasks      | elapsed: 65.8min\n",
      "[Parallel(n_jobs=4)]: Done 1450 tasks      | elapsed: 67.2min\n",
      "[Parallel(n_jobs=4)]: Done 1505 tasks      | elapsed: 69.6min\n",
      "[Parallel(n_jobs=4)]: Done 1560 tasks      | elapsed: 71.6min\n",
      "[Parallel(n_jobs=4)]: Done 1617 tasks      | elapsed: 74.8min\n",
      "[Parallel(n_jobs=4)]: Done 1674 tasks      | elapsed: 77.0min\n",
      "[Parallel(n_jobs=4)]: Done 1733 tasks      | elapsed: 79.2min\n",
      "[Parallel(n_jobs=4)]: Done 1792 tasks      | elapsed: 82.3min\n",
      "[Parallel(n_jobs=4)]: Done 1853 tasks      | elapsed: 84.3min\n",
      "[Parallel(n_jobs=4)]: Done 1914 tasks      | elapsed: 87.6min\n",
      "[Parallel(n_jobs=4)]: Done 1977 tasks      | elapsed: 90.5min\n",
      "[Parallel(n_jobs=4)]: Done 2040 tasks      | elapsed: 92.5min\n",
      "[Parallel(n_jobs=4)]: Done 2105 tasks      | elapsed: 95.6min\n",
      "[Parallel(n_jobs=4)]: Done 2170 tasks      | elapsed: 97.7min\n",
      "[Parallel(n_jobs=4)]: Done 2237 tasks      | elapsed: 100.1min\n",
      "[Parallel(n_jobs=4)]: Done 2304 tasks      | elapsed: 103.0min\n",
      "[Parallel(n_jobs=4)]: Done 2373 tasks      | elapsed: 106.7min\n",
      "[Parallel(n_jobs=4)]: Done 2442 tasks      | elapsed: 110.3min\n",
      "[Parallel(n_jobs=4)]: Done 2513 tasks      | elapsed: 114.3min\n",
      "[Parallel(n_jobs=4)]: Done 2584 tasks      | elapsed: 119.1min\n",
      "[Parallel(n_jobs=4)]: Done 2657 tasks      | elapsed: 122.4min\n",
      "[Parallel(n_jobs=4)]: Done 2730 tasks      | elapsed: 125.4min\n",
      "[Parallel(n_jobs=4)]: Done 2805 tasks      | elapsed: 127.6min\n",
      "[Parallel(n_jobs=4)]: Done 2880 tasks      | elapsed: 131.0min\n",
      "[Parallel(n_jobs=4)]: Done 2957 tasks      | elapsed: 133.5min\n",
      "[Parallel(n_jobs=4)]: Done 3034 tasks      | elapsed: 138.0min\n",
      "[Parallel(n_jobs=4)]: Done 3113 tasks      | elapsed: 142.3min\n",
      "[Parallel(n_jobs=4)]: Done 3192 tasks      | elapsed: 146.6min\n",
      "[Parallel(n_jobs=4)]: Done 3273 tasks      | elapsed: 149.9min\n",
      "[Parallel(n_jobs=4)]: Done 3354 tasks      | elapsed: 153.3min\n",
      "[Parallel(n_jobs=4)]: Done 3437 tasks      | elapsed: 157.8min\n",
      "[Parallel(n_jobs=4)]: Done 3520 tasks      | elapsed: 163.9min\n",
      "[Parallel(n_jobs=4)]: Done 3605 tasks      | elapsed: 167.7min\n",
      "[Parallel(n_jobs=4)]: Done 3690 tasks      | elapsed: 172.7min\n",
      "[Parallel(n_jobs=4)]: Done 3777 tasks      | elapsed: 177.1min\n",
      "[Parallel(n_jobs=4)]: Done 3864 tasks      | elapsed: 181.2min\n",
      "[Parallel(n_jobs=4)]: Done 3953 tasks      | elapsed: 185.7min\n",
      "[Parallel(n_jobs=4)]: Done 4042 tasks      | elapsed: 188.2min\n",
      "[Parallel(n_jobs=4)]: Done 4133 tasks      | elapsed: 194.5min\n",
      "[Parallel(n_jobs=4)]: Done 4224 tasks      | elapsed: 197.0min\n",
      "[Parallel(n_jobs=4)]: Done 4317 tasks      | elapsed: 200.5min\n",
      "[Parallel(n_jobs=4)]: Done 4410 tasks      | elapsed: 205.2min\n",
      "[Parallel(n_jobs=4)]: Done 4505 tasks      | elapsed: 208.8min\n",
      "[Parallel(n_jobs=4)]: Done 4600 tasks      | elapsed: 216.3min\n",
      "[Parallel(n_jobs=4)]: Done 4697 tasks      | elapsed: 220.7min\n",
      "[Parallel(n_jobs=4)]: Done 4794 tasks      | elapsed: 224.5min\n",
      "[Parallel(n_jobs=4)]: Done 4893 tasks      | elapsed: 229.5min\n",
      "[Parallel(n_jobs=4)]: Done 4992 tasks      | elapsed: 235.6min\n",
      "[Parallel(n_jobs=4)]: Done 5093 tasks      | elapsed: 240.6min\n",
      "[Parallel(n_jobs=4)]: Done 5194 tasks      | elapsed: 245.0min\n",
      "[Parallel(n_jobs=4)]: Done 5297 tasks      | elapsed: 252.0min\n",
      "[Parallel(n_jobs=4)]: Done 5400 tasks      | elapsed: 258.0min\n",
      "[Parallel(n_jobs=4)]: Done 5505 tasks      | elapsed: 264.2min\n",
      "[Parallel(n_jobs=4)]: Done 5610 tasks      | elapsed: 270.4min\n",
      "[Parallel(n_jobs=4)]: Done 5717 tasks      | elapsed: 273.9min\n",
      "[Parallel(n_jobs=4)]: Done 5824 tasks      | elapsed: 281.1min\n",
      "[Parallel(n_jobs=4)]: Done 5933 tasks      | elapsed: 286.9min\n",
      "[Parallel(n_jobs=4)]: Done 6042 tasks      | elapsed: 291.6min\n",
      "[Parallel(n_jobs=4)]: Done 6153 tasks      | elapsed: 298.9min\n",
      "/opt/conda/envs/data3/lib/python3.7/site-packages/joblib/externals/loky/process_executor.py:706: UserWarning: A worker stopped while some jobs were given to the executor. This can be caused by a too short worker timeout or by a memory leak.\n",
      "  \"timeout or by a memory leak.\", UserWarning\n",
      "[Parallel(n_jobs=4)]: Done 6264 tasks      | elapsed: 304.4min\n",
      "[Parallel(n_jobs=4)]: Done 6377 tasks      | elapsed: 309.2min\n",
      "[Parallel(n_jobs=4)]: Done 6490 tasks      | elapsed: 313.5min\n",
      "[Parallel(n_jobs=4)]: Done 6605 tasks      | elapsed: 318.8min\n",
      "[Parallel(n_jobs=4)]: Done 6720 tasks      | elapsed: 324.1min\n",
      "[Parallel(n_jobs=4)]: Done 6837 tasks      | elapsed: 329.1min\n",
      "[Parallel(n_jobs=4)]: Done 6954 tasks      | elapsed: 334.7min\n",
      "[Parallel(n_jobs=4)]: Done 7073 tasks      | elapsed: 340.1min\n",
      "[Parallel(n_jobs=4)]: Done 7192 tasks      | elapsed: 346.5min\n",
      "[Parallel(n_jobs=4)]: Done 7313 tasks      | elapsed: 353.6min\n",
      "[Parallel(n_jobs=4)]: Done 7434 tasks      | elapsed: 360.1min\n",
      "[Parallel(n_jobs=4)]: Done 7557 tasks      | elapsed: 363.3min\n",
      "[Parallel(n_jobs=4)]: Done 7680 tasks      | elapsed: 368.9min\n",
      "[Parallel(n_jobs=4)]: Done 7805 tasks      | elapsed: 375.4min\n",
      "[Parallel(n_jobs=4)]: Done 7930 tasks      | elapsed: 379.9min\n",
      "[Parallel(n_jobs=4)]: Done 8057 tasks      | elapsed: 385.5min\n",
      "[Parallel(n_jobs=4)]: Done 8184 tasks      | elapsed: 392.1min\n",
      "[Parallel(n_jobs=4)]: Done 8313 tasks      | elapsed: 399.4min\n",
      "[Parallel(n_jobs=4)]: Done 8442 tasks      | elapsed: 405.7min\n",
      "[Parallel(n_jobs=4)]: Done 8573 tasks      | elapsed: 410.7min\n",
      "[Parallel(n_jobs=4)]: Done 8704 tasks      | elapsed: 416.8min\n",
      "[Parallel(n_jobs=4)]: Done 8837 tasks      | elapsed: 421.7min\n",
      "[Parallel(n_jobs=4)]: Done 8970 tasks      | elapsed: 426.6min\n",
      "[Parallel(n_jobs=4)]: Done 9105 tasks      | elapsed: 433.7min\n",
      "[Parallel(n_jobs=4)]: Done 9240 tasks      | elapsed: 439.3min\n",
      "[Parallel(n_jobs=4)]: Done 9377 tasks      | elapsed: 446.1min\n",
      "[Parallel(n_jobs=4)]: Done 9514 tasks      | elapsed: 453.5min\n",
      "[Parallel(n_jobs=4)]: Done 9653 tasks      | elapsed: 460.5min\n",
      "[Parallel(n_jobs=4)]: Done 9792 tasks      | elapsed: 467.3min\n",
      "[Parallel(n_jobs=4)]: Done 9933 tasks      | elapsed: 474.3min\n",
      "[Parallel(n_jobs=4)]: Done 10000 out of 10000 | elapsed: 476.8min finished\n"
     ]
    }
   ],
   "source": [
    "rfc_random = RandomizedSearchCV(estimator = pipe_rfc, \n",
    "                               param_distributions = random_grid, \n",
    "                               n_iter = 2000, \n",
    "                               cv = 5, \n",
    "                               n_jobs = 4, \n",
    "                               verbose=10)\n",
    "\n",
    "# Fit the random search model\n",
    "rfc_random.fit(X_train, y_train)\n",
    "best_random = rfc_random.best_estimator_"
   ]
  },
  {
   "cell_type": "code",
   "execution_count": 83,
   "metadata": {},
   "outputs": [
    {
     "name": "stdout",
     "output_type": "stream",
     "text": [
      "{'subsnp__n_snps': 5000, 'reg__n_estimators': 2000, 'reg__min_samples_split': 20, 'reg__min_samples_leaf': 2, 'reg__max_depth': 2000}\n",
      "Accuracy: 0.74 Recall: 0.83\n"
     ]
    }
   ],
   "source": [
    "#Predict the response for test dataset\n",
    "print(rfc_random.best_params_)\n",
    "y_pred = best_random.predict(X_test)\n",
    "accuracy_rfc=metrics.accuracy_score(y_test, y_pred)\n",
    "recall_rfc=recall_score(y_test, y_pred)\n",
    "print(\"Accuracy:\",round(accuracy_rfc,2),\"Recall:\",round(recall_rfc,2))"
   ]
  },
  {
   "cell_type": "code",
   "execution_count": 84,
   "metadata": {},
   "outputs": [
    {
     "name": "stdout",
     "output_type": "stream",
     "text": [
      "[[487  98]\n",
      " [220 395]]\n",
      "              precision    recall  f1-score   support\n",
      "\n",
      "         1.0       0.69      0.83      0.75       585\n",
      "         2.0       0.80      0.64      0.71       615\n",
      "\n",
      "    accuracy                           0.73      1200\n",
      "   macro avg       0.75      0.74      0.73      1200\n",
      "weighted avg       0.75      0.73      0.73      1200\n",
      "\n",
      "0.735\n"
     ]
    }
   ],
   "source": [
    "from sklearn.metrics import classification_report, confusion_matrix, accuracy_score\n",
    "\n",
    "print(confusion_matrix(y_test,y_pred))\n",
    "print(classification_report(y_test,y_pred))\n",
    "print(accuracy_score(y_test, y_pred))"
   ]
  },
  {
   "cell_type": "code",
   "execution_count": 85,
   "metadata": {},
   "outputs": [
    {
     "name": "stdout",
     "output_type": "stream",
     "text": [
      "Train Accuracy: 1.0 Recall: 1.0\n",
      "Test Accuracy: 0.74 Recall: 0.83\n"
     ]
    }
   ],
   "source": [
    "#measure overfitting\n",
    "y_train_pred = best_random.predict(X_train)\n",
    "accuracy_train=metrics.accuracy_score(y_train, y_train_pred)\n",
    "recall_train=recall_score(y_train, y_train_pred)\n",
    "print(\"Train Accuracy:\",round(accuracy_train,2),\"Recall:\",round(recall_train,2))\n",
    "\n",
    "y_test_pred = best_random.predict(X_test)\n",
    "accuracy_test=metrics.accuracy_score(y_test, y_test_pred)\n",
    "recall_test=recall_score(y_test, y_test_pred)\n",
    "print(\"Test Accuracy:\",round(accuracy_test,2),\"Recall:\",round(recall_test,2))"
   ]
  },
  {
   "cell_type": "code",
   "execution_count": 86,
   "metadata": {},
   "outputs": [
    {
     "data": {
      "text/plain": [
       "['best_random_pipeline.joblib']"
      ]
     },
     "execution_count": 86,
     "metadata": {},
     "output_type": "execute_result"
    }
   ],
   "source": [
    "#Saving model\n",
    "#https://scikit-learn.org/stable/modules/model_persistence.html\n",
    "import pickle\n",
    "s = pickle.dumps(best_random)\n",
    "from joblib import dump, load\n",
    "dump(best_random, 'best_random_pipeline.joblib') "
   ]
  },
  {
   "cell_type": "code",
   "execution_count": 87,
   "metadata": {},
   "outputs": [],
   "source": [
    "#loading model\n",
    "from joblib import dump, load\n",
    "best_random=load('best_random_pipeline.joblib') "
   ]
  },
  {
   "cell_type": "code",
   "execution_count": 88,
   "metadata": {},
   "outputs": [],
   "source": [
    "# feature importance\n",
    "importances = best_random.named_steps[\"reg\"].feature_importances_\n",
    "#std = np.std([best_random.feature_importances_ for tree in best_random.estimators_],\n",
    "#             axis=0)\n",
    "indices = np.argsort(importances)[::-1]"
   ]
  },
  {
   "cell_type": "code",
   "execution_count": 89,
   "metadata": {},
   "outputs": [
    {
     "data": {
      "text/plain": [
       "0            6_disease_he_15\n",
       "1           16_disease_he_30\n",
       "2            1_disease_he_41\n",
       "3            16_disease_he_3\n",
       "4            4_disease_he_17\n",
       "                ...         \n",
       "24997      3_neutral_B_57276\n",
       "24998    19_neutral_B_120957\n",
       "24999      22_neutral_B_4912\n",
       "25000    22_neutral_A_498329\n",
       "25001     3_neutral_B_133767\n",
       "Name: chr_snp, Length: 25002, dtype: object"
      ]
     },
     "execution_count": 89,
     "metadata": {},
     "output_type": "execute_result"
    }
   ],
   "source": [
    "gwas.chr_snp"
   ]
  },
  {
   "cell_type": "code",
   "execution_count": 90,
   "metadata": {},
   "outputs": [
    {
     "data": {
      "text/plain": [
       "array([ 2,  0,  3,  1,  8, 10,  9,  4,  7,  5, 12,  6, 16, 15, 17, 13, 18,\n",
       "       14, 11, 19])"
      ]
     },
     "execution_count": 90,
     "metadata": {},
     "output_type": "execute_result"
    }
   ],
   "source": [
    "indices[0:20]"
   ]
  },
  {
   "cell_type": "code",
   "execution_count": 91,
   "metadata": {},
   "outputs": [
    {
     "data": {
      "text/html": [
       "<div>\n",
       "<style scoped>\n",
       "    .dataframe tbody tr th:only-of-type {\n",
       "        vertical-align: middle;\n",
       "    }\n",
       "\n",
       "    .dataframe tbody tr th {\n",
       "        vertical-align: top;\n",
       "    }\n",
       "\n",
       "    .dataframe thead th {\n",
       "        text-align: right;\n",
       "    }\n",
       "</style>\n",
       "<table border=\"1\" class=\"dataframe\">\n",
       "  <thead>\n",
       "    <tr style=\"text-align: right;\">\n",
       "      <th></th>\n",
       "      <th>id</th>\n",
       "      <th>type</th>\n",
       "      <th>cat</th>\n",
       "      <th>variant</th>\n",
       "      <th>snp</th>\n",
       "    </tr>\n",
       "  </thead>\n",
       "  <tbody>\n",
       "    <tr>\n",
       "      <th>0</th>\n",
       "      <td>1</td>\n",
       "      <td>disease</td>\n",
       "      <td>he</td>\n",
       "      <td>41</td>\n",
       "      <td>6_disease_he_15</td>\n",
       "    </tr>\n",
       "    <tr>\n",
       "      <th>1</th>\n",
       "      <td>6</td>\n",
       "      <td>disease</td>\n",
       "      <td>he</td>\n",
       "      <td>15</td>\n",
       "      <td>16_disease_he_30</td>\n",
       "    </tr>\n",
       "    <tr>\n",
       "      <th>2</th>\n",
       "      <td>16</td>\n",
       "      <td>disease</td>\n",
       "      <td>he</td>\n",
       "      <td>3</td>\n",
       "      <td>1_disease_he_41</td>\n",
       "    </tr>\n",
       "    <tr>\n",
       "      <th>3</th>\n",
       "      <td>16</td>\n",
       "      <td>disease</td>\n",
       "      <td>he</td>\n",
       "      <td>30</td>\n",
       "      <td>16_disease_he_3</td>\n",
       "    </tr>\n",
       "    <tr>\n",
       "      <th>4</th>\n",
       "      <td>22</td>\n",
       "      <td>disease</td>\n",
       "      <td>he</td>\n",
       "      <td>20</td>\n",
       "      <td>4_disease_he_17</td>\n",
       "    </tr>\n",
       "  </tbody>\n",
       "</table>\n",
       "</div>"
      ],
      "text/plain": [
       "   id     type cat variant               snp\n",
       "0   1  disease  he      41   6_disease_he_15\n",
       "1   6  disease  he      15  16_disease_he_30\n",
       "2  16  disease  he       3   1_disease_he_41\n",
       "3  16  disease  he      30   16_disease_he_3\n",
       "4  22  disease  he      20   4_disease_he_17"
      ]
     },
     "execution_count": 91,
     "metadata": {},
     "output_type": "execute_result"
    }
   ],
   "source": [
    "topX=np.array(gwas.chr_snp[indices[0:59]])\n",
    "topX=pd.DataFrame([tmp.split('_') for tmp in topX],columns=['id','type','cat','variant'])\n",
    "topX['snp']=gwas.chr_snp[indices[0:59]]\n",
    "topX[0:5]"
   ]
  },
  {
   "cell_type": "code",
   "execution_count": 92,
   "metadata": {},
   "outputs": [
    {
     "data": {
      "text/plain": [
       "type     cat\n",
       "disease  he     46\n",
       "         ho      5\n",
       "neutral  B       1\n",
       "         C       1\n",
       "         D       6\n",
       "Name: variant, dtype: int64"
      ]
     },
     "execution_count": 92,
     "metadata": {},
     "output_type": "execute_result"
    }
   ],
   "source": [
    "#Comparing with GWAS, looking at the top 59 variants (59 were considered significant in the GWAS)\n",
    "topX.groupby(['type','cat'])['variant'].count()"
   ]
  },
  {
   "cell_type": "code",
   "execution_count": 93,
   "metadata": {},
   "outputs": [
    {
     "name": "stdout",
     "output_type": "stream",
     "text": [
      "Feature ranking:\n",
      "1. 1_disease_he_41 (0.003094)\n",
      "2. 6_disease_he_15 (0.003016)\n",
      "3. 16_disease_he_3 (0.002440)\n",
      "4. 16_disease_he_30 (0.002405)\n",
      "5. 22_disease_he_20 (0.002333)\n",
      "6. 3_disease_he_25 (0.002170)\n",
      "7. 5_disease_he_11 (0.002159)\n",
      "8. 4_disease_he_17 (0.002145)\n",
      "9. 3_disease_he_45 (0.001974)\n",
      "10. 1_disease_he_32 (0.001935)\n"
     ]
    }
   ],
   "source": [
    "print(\"Feature ranking:\")\n",
    "for f in range(0,10):\n",
    "    print(\"%d. %s (%f)\" % (f + 1, topX.snp[indices[f]], importances[indices[f]]))"
   ]
  },
  {
   "cell_type": "code",
   "execution_count": 94,
   "metadata": {},
   "outputs": [
    {
     "data": {
      "image/png": "[encoded data removed]",
      "text/plain": [
       "<Figure size 1200x800 with 1 Axes>"
      ]
     },
     "metadata": {},
     "output_type": "display_data"
    }
   ],
   "source": [
    "# Plot the feature importances of the forest\n",
    "nb_feat=40\n",
    "plt.figure()\n",
    "plt.title(\"Feature importances\")\n",
    "plt.bar(range(0,nb_feat), importances[indices[0:nb_feat]],\n",
    "       color=\"r\", align=\"center\")\n",
    "plt.xticks(rotation=90)\n",
    "plt.xticks(range(0,nb_feat), topX.snp[indices[0:nb_feat]])\n",
    "plt.tick_params(axis='x', which='major', labelsize=6) \n",
    "plt.show()"
   ]
  },
  {
   "cell_type": "code",
   "execution_count": 96,
   "metadata": {},
   "outputs": [
    {
     "name": "stdout",
     "output_type": "stream",
     "text": [
      "0.73737752762143\n"
     ]
    }
   ],
   "source": [
    "from sklearn.metrics import roc_curve, auc\n",
    "from sklearn.preprocessing import label_binarize\n",
    "\n",
    "# Binarize the output\n",
    "y_test_class = label_binarize(y_test, classes=[1,2])\n",
    "y_pred_class = label_binarize(y_pred, classes=[1,2])\n",
    "n_classes = y_test_class.shape[1]\n",
    "\n",
    "# Compute ROC curve and ROC area for each class\n",
    "fpr = dict()\n",
    "tpr = dict()\n",
    "roc_auc = dict()\n",
    "\n",
    "fpr, tpr, _ = roc_curve(y_test_class, y_pred_class)\n",
    "roc_auc = auc(fpr, tpr)\n",
    "print(roc_auc)"
   ]
  },
  {
   "cell_type": "code",
   "execution_count": 34,
   "metadata": {},
   "outputs": [],
   "source": [
    "#roc curve\n",
    "#https://towardsdatascience.com/an-implementation-and-explanation-of-the-random-forest-in-python-77bf308a9b76"
   ]
  },
  {
   "cell_type": "markdown",
   "metadata": {},
   "source": [
    "## Global prediction \n",
    "\n",
    "Based on 1000 genome project"
   ]
  },
  {
   "cell_type": "code",
   "execution_count": 97,
   "metadata": {},
   "outputs": [
    {
     "name": "stdout",
     "output_type": "stream",
     "text": [
      "<xarray.DataArray 'genotype' (sample: 629, variant: 25002)>\n",
      "dask.array<transpose, shape=(629, 25002), dtype=float64, chunksize=(629, 1024), chunktype=numpy.ndarray>\n",
      "Coordinates:\n",
      "  * sample   (sample) object 'HG00098' 'HG00100' ... 'NA20826' 'NA20828'\n",
      "  * variant  (variant) object '1_rs10907177' '1_rs6604968' ... '22_rs2071421'\n",
      "    fid      (sample) <U7 'HG00098' 'HG00100' 'HG00106' ... 'NA20826' 'NA20828'\n",
      "    iid      (sample) <U7 'HG00098' 'HG00100' 'HG00106' ... 'NA20826' 'NA20828'\n",
      "    father   (sample) <U1 '0' '0' '0' '0' '0' '0' ... '0' '0' '0' '0' '0' '0'\n",
      "    mother   (sample) <U1 '0' '0' '0' '0' '0' '0' ... '0' '0' '0' '0' '0' '0'\n",
      "    gender   (sample) <U1 '0' '0' '0' '0' '0' '0' ... '0' '0' '0' '0' '0' '0'\n",
      "    trait    (sample) float64 -9.0 -9.0 -9.0 -9.0 -9.0 ... -9.0 -9.0 -9.0 -9.0\n",
      "    chrom    (variant) <U2 '1' '1' '1' '1' '1' '1' ... '22' '22' '22' '22' '22'\n",
      "    snp      (variant) <U10 'rs10907177' 'rs6604968' ... 'rs7410608' 'rs2071421'\n",
      "    cm       (variant) float64 0.0 0.0 0.0 0.0 0.0 0.0 ... 0.0 0.0 0.0 0.0 0.0\n",
      "    pos      (variant) int64 1011209 1031563 1039813 ... 49205679 49411282\n",
      "    a0       (variant) <U1 'G' 'G' 'G' 'A' 'T' 'G' ... 'C' 'A' 'T' 'A' 'C' 'C'\n",
      "    a1       (variant) <U1 'A' 'A' 'A' 'G' 'G' 'A' ... 'A' 'G' 'C' 'G' 'G' 'T'\n"
     ]
    }
   ],
   "source": [
    "#Load 1000 genome dataset\n",
    "kgp = read_plink1_bin(\"Data/1kG_top.bed\", \"Data/1kG_top.bim\", \"Data/1kG_top.fam\", verbose=False)\n",
    "print(kgp)"
   ]
  },
  {
   "cell_type": "code",
   "execution_count": 98,
   "metadata": {},
   "outputs": [
    {
     "data": {
      "text/plain": [
       "(629, 25002)"
      ]
     },
     "execution_count": 98,
     "metadata": {},
     "output_type": "execute_result"
    }
   ],
   "source": [
    "X_kgp=np.array(kgp.values)\n",
    "X_kgp.shape"
   ]
  },
  {
   "cell_type": "code",
   "execution_count": 37,
   "metadata": {},
   "outputs": [],
   "source": [
    "# imp_mf.fit(X_kgp)\n",
    "# X_kgp=imp_mf.transform(X_kgp)\n",
    "# X_kgp=enc.transform(X_kgp).toarray()\n",
    "# X_kgp.shape"
   ]
  },
  {
   "cell_type": "code",
   "execution_count": 99,
   "metadata": {},
   "outputs": [
    {
     "name": "stdout",
     "output_type": "stream",
     "text": [
      "SimpleImputer(add_indicator=False, copy=True, fill_value=None,\n",
      "              missing_values=nan, strategy='mean', verbose=0)\n"
     ]
    }
   ],
   "source": [
    "# Imputing missing values as most frequent\n",
    "from sklearn.impute import SimpleImputer\n",
    "imp_mf = SimpleImputer(missing_values=np.nan, strategy='most_frequent')\n",
    "imp_mf.fit(X_kgp)\n",
    "print(SimpleImputer())\n",
    "X_kgp=imp_mf.transform(X_kgp)"
   ]
  },
  {
   "cell_type": "code",
   "execution_count": 100,
   "metadata": {},
   "outputs": [],
   "source": [
    "kpg_pred = best_random.predict(X_kgp)"
   ]
  },
  {
   "cell_type": "code",
   "execution_count": 101,
   "metadata": {},
   "outputs": [
    {
     "name": "stdout",
     "output_type": "stream",
     "text": [
      "[2. 2. 2. 2. 1. 2. 2. 2. 1. 2. 2. 2. 2. 2. 2. 2. 2. 2. 1. 1. 2. 2. 2. 2.\n",
      " 2. 2. 2. 2. 2. 2.]\n",
      "629\n"
     ]
    }
   ],
   "source": [
    "print(kpg_pred[0:30])\n",
    "print(len(kpg_pred))"
   ]
  },
  {
   "cell_type": "code",
   "execution_count": 102,
   "metadata": {},
   "outputs": [
    {
     "data": {
      "text/plain": [
       "2.0    463\n",
       "1.0    166\n",
       "Name: Prediction, dtype: int64"
      ]
     },
     "execution_count": 102,
     "metadata": {},
     "output_type": "execute_result"
    }
   ],
   "source": [
    "import pandas as pd\n",
    "kpg_df=pd.DataFrame(kpg_pred,columns=['Prediction'])\n",
    "kpg_df['Prediction'].value_counts()"
   ]
  },
  {
   "cell_type": "code",
   "execution_count": 103,
   "metadata": {},
   "outputs": [],
   "source": [
    "igrs=pd.read_table('Data/igsr_samples.tsv') \n",
    "igrs = igrs[['Sample name','Sex','Population code','Superpopulation code','Population name']]"
   ]
  },
  {
   "cell_type": "code",
   "execution_count": 104,
   "metadata": {},
   "outputs": [
    {
     "name": "stdout",
     "output_type": "stream",
     "text": [
      "(629, 6)\n"
     ]
    }
   ],
   "source": [
    "#get name of individuals from genetic dataset and combine with metadata\n",
    "kgp_sample=pd.DataFrame(np.array(kgp.sample),columns=['Sample name'])\n",
    "kpg_all=pd.merge(kgp_sample,igrs, on=['Sample name'])\n",
    "kpg_all['Prediction']=kpg_pred\n",
    "print(kpg_all.shape)"
   ]
  },
  {
   "cell_type": "code",
   "execution_count": 105,
   "metadata": {},
   "outputs": [
    {
     "data": {
      "text/plain": [
       "TSI    92\n",
       "CEU    90\n",
       "JPT    84\n",
       "YRI    78\n",
       "CHB    68\n",
       "LWK    67\n",
       "GBR    43\n",
       "FIN    36\n",
       "CHS    25\n",
       "ASW    24\n",
       "MXL    17\n",
       "PUR     5\n",
       "Name: Population code, dtype: int64"
      ]
     },
     "execution_count": 105,
     "metadata": {},
     "output_type": "execute_result"
    }
   ],
   "source": [
    "kpg_all['Population code'].value_counts()"
   ]
  },
  {
   "cell_type": "code",
   "execution_count": 106,
   "metadata": {},
   "outputs": [],
   "source": [
    "#Remove PUR because too few samples\n",
    "kpg_all=kpg_all[kpg_all['Population code']!='PUR']"
   ]
  },
  {
   "cell_type": "code",
   "execution_count": 107,
   "metadata": {},
   "outputs": [],
   "source": [
    "kpg_groupcode=pd.DataFrame(kpg_all.groupby(['Population code','Prediction'], as_index=False).count())\n",
    "kpg_groupcode=kpg_groupcode[['Population code','Prediction','Sample name']]\n",
    "#getting pop names related to codes\n",
    "code_desc=pd.DataFrame({'Population code': ['TSI','CEU','JPT','YRI','CHB','LWK','GBR','FIN','CHS','ASW','MXL'],\n",
    "                        'Population': ['Toscani','CEPH','Japanese','Yoruba','Han Chinese','Luhya','British','Finnish',\n",
    "        'Southern Han Chinese','African Ancestry SW','Mexican Ancestry']})\n",
    "\n",
    "kpg_groupcode2=pd.merge(kpg_groupcode,code_desc, on=['Population code'],how='left')\n",
    "kpg_groupcode2.loc[kpg_groupcode2.Prediction == 1, 'Prediction'] = \"Unaffected\"\n",
    "kpg_groupcode2.loc[kpg_groupcode2.Prediction == 2, 'Prediction'] = \"Affected\""
   ]
  },
  {
   "cell_type": "code",
   "execution_count": 108,
   "metadata": {},
   "outputs": [
    {
     "data": {
      "image/png": "[encoded data removed]",
      "text/plain": [
       "<Figure size 1200x800 with 1 Axes>"
      ]
     },
     "metadata": {},
     "output_type": "display_data"
    }
   ],
   "source": [
    "#https://seaborn.pydata.org/generated/seaborn.barplot.html\n",
    "import seaborn as sns\n",
    "sns.set(style=\"whitegrid\")\n",
    "ax = sns.barplot(y=\"Population\", x=\"Sample name\", hue=\"Prediction\", data=kpg_groupcode2)\n",
    "ax.set_xlabel('count');\n",
    "ax.set_ylabel('');"
   ]
  },
  {
   "cell_type": "markdown",
   "metadata": {},
   "source": [
    "## Gradient Boosting Classifier"
   ]
  },
  {
   "cell_type": "code",
   "execution_count": 56,
   "metadata": {},
   "outputs": [
    {
     "data": {
      "text/plain": [
       "dict_keys(['memory', 'steps', 'verbose', 'subsnp', 'reg', 'subsnp__n_snps', 'subsnp__snp_assoc', 'subsnp__snp_names', 'reg__criterion', 'reg__init', 'reg__learning_rate', 'reg__loss', 'reg__max_depth', 'reg__max_features', 'reg__max_leaf_nodes', 'reg__min_impurity_decrease', 'reg__min_impurity_split', 'reg__min_samples_leaf', 'reg__min_samples_split', 'reg__min_weight_fraction_leaf', 'reg__n_estimators', 'reg__n_iter_no_change', 'reg__presort', 'reg__random_state', 'reg__subsample', 'reg__tol', 'reg__validation_fraction', 'reg__verbose', 'reg__warm_start'])"
      ]
     },
     "execution_count": 56,
     "metadata": {},
     "output_type": "execute_result"
    }
   ],
   "source": [
    "from sklearn.pipeline import Pipeline\n",
    "from sklearn.ensemble import GradientBoostingClassifier\n",
    "pipe_gbc = Pipeline([\n",
    "        # ColumnSelectTransformer\n",
    "    ('subsnp',subsnp(n_snps, gwas, snp_names)),\n",
    "        # KNeighborsRegressor\n",
    "    ('reg',GradientBoostingClassifier())\n",
    "    ])\n",
    "pipe_gbc.get_params().keys()"
   ]
  },
  {
   "cell_type": "code",
   "execution_count": 57,
   "metadata": {},
   "outputs": [
    {
     "name": "stdout",
     "output_type": "stream",
     "text": [
      "{'subsnp__n_snps': [20, 40, 60, 80, 100, 120, 140, 160, 180, 200, 500, 1000, 1500, 2000, 2500, 3000, 3500, 4000, 4500, 5000], 'reg__n_estimators': [100, 200, 300, 400, 500, 600, 700, 800, 900, 1000], 'reg__max_depth': [20, 40, 60, 80, 100, 120, 140, 160, 180, 200, 500, 1000, 1500, 2000, 2500, 3000, 3500, 4000, 4500, 5000], 'reg__learning_rate': array([0.1, 0.2, 0.3, 0.4, 0.5, 0.6, 0.7, 0.8, 0.9, 1. , 1.1, 1.2, 1.3,\n",
      "       1.4, 1.5, 1.6, 1.7, 1.8, 1.9]), 'reg__subsample': array([0.1, 0.2, 0.3, 0.4, 0.5, 0.6, 0.7, 0.8, 0.9])}\n"
     ]
    }
   ],
   "source": [
    "# Create the random grid\n",
    "# Number of SNPs\n",
    "n_snps = [int(x) for x in np.linspace(20, 200, num = 10)]; n_snps.extend([int(x) for x in np.linspace(500, 5000, num = 10)])\n",
    "# Number of trees in random forest\n",
    "n_estimators = [int(x) for x in np.linspace(start = 100, stop = 1000, num = 10)]\n",
    "# Maximum number of levels in tree\n",
    "max_depth = [int(x) for x in np.linspace(20, 200, num = 10)]; max_depth.extend([int(x) for x in np.linspace(500, 5000, num = 10)])\n",
    "# Minimum number of samples required to split a node\n",
    "min_samples_split = [int(x) for x in np.linspace(start = 10, stop = 100, num = 10)]\n",
    "# Minimum number of samples required at each leaf node\n",
    "min_samples_leaf = [1, 2, 4]\n",
    "# Create the random grid\n",
    "random_grid_gbc = {'subsnp__n_snps': n_snps,\n",
    "               'reg__n_estimators': n_estimators,\n",
    "               'reg__max_depth': max_depth,\n",
    "               'reg__learning_rate': np.arange(0.1,2,0.1),\n",
    "               'reg__subsample': np.arange(0.1,1,0.1)}\n",
    "print(random_grid_gbc)"
   ]
  },
  {
   "cell_type": "code",
   "execution_count": 61,
   "metadata": {},
   "outputs": [
    {
     "name": "stdout",
     "output_type": "stream",
     "text": [
      "Fitting 3 folds for each of 200 candidates, totalling 600 fits\n"
     ]
    },
    {
     "name": "stderr",
     "output_type": "stream",
     "text": [
      "[Parallel(n_jobs=4)]: Using backend LokyBackend with 4 concurrent workers.\n",
      "[Parallel(n_jobs=4)]: Done   5 tasks      | elapsed:   17.7s\n",
      "[Parallel(n_jobs=4)]: Done  10 tasks      | elapsed:  6.3min\n",
      "[Parallel(n_jobs=4)]: Done  17 tasks      | elapsed: 10.6min\n",
      "[Parallel(n_jobs=4)]: Done  24 tasks      | elapsed: 12.0min\n",
      "[Parallel(n_jobs=4)]: Done  33 tasks      | elapsed: 16.8min\n",
      "[Parallel(n_jobs=4)]: Done  42 tasks      | elapsed: 22.1min\n",
      "[Parallel(n_jobs=4)]: Done  53 tasks      | elapsed: 24.1min\n",
      "[Parallel(n_jobs=4)]: Done  64 tasks      | elapsed: 34.8min\n",
      "[Parallel(n_jobs=4)]: Done  77 tasks      | elapsed: 37.6min\n",
      "[Parallel(n_jobs=4)]: Done  90 tasks      | elapsed: 53.7min\n",
      "[Parallel(n_jobs=4)]: Done 105 tasks      | elapsed: 66.4min\n",
      "[Parallel(n_jobs=4)]: Done 120 tasks      | elapsed: 74.7min\n",
      "[Parallel(n_jobs=4)]: Done 137 tasks      | elapsed: 78.2min\n",
      "[Parallel(n_jobs=4)]: Done 154 tasks      | elapsed: 99.5min\n",
      "[Parallel(n_jobs=4)]: Done 173 tasks      | elapsed: 112.6min\n",
      "[Parallel(n_jobs=4)]: Done 192 tasks      | elapsed: 116.9min\n",
      "[Parallel(n_jobs=4)]: Done 213 tasks      | elapsed: 123.6min\n",
      "[Parallel(n_jobs=4)]: Done 234 tasks      | elapsed: 130.4min\n",
      "[Parallel(n_jobs=4)]: Done 257 tasks      | elapsed: 136.6min\n",
      "[Parallel(n_jobs=4)]: Done 280 tasks      | elapsed: 150.6min\n",
      "[Parallel(n_jobs=4)]: Done 305 tasks      | elapsed: 164.1min\n",
      "[Parallel(n_jobs=4)]: Done 330 tasks      | elapsed: 177.2min\n",
      "[Parallel(n_jobs=4)]: Done 357 tasks      | elapsed: 210.2min\n",
      "[Parallel(n_jobs=4)]: Done 384 tasks      | elapsed: 235.0min\n",
      "[Parallel(n_jobs=4)]: Done 413 tasks      | elapsed: 265.8min\n",
      "[Parallel(n_jobs=4)]: Done 442 tasks      | elapsed: 283.8min\n",
      "[Parallel(n_jobs=4)]: Done 473 tasks      | elapsed: 305.6min\n",
      "[Parallel(n_jobs=4)]: Done 504 tasks      | elapsed: 315.9min\n",
      "[Parallel(n_jobs=4)]: Done 537 tasks      | elapsed: 345.1min\n",
      "[Parallel(n_jobs=4)]: Done 570 tasks      | elapsed: 365.6min\n",
      "[Parallel(n_jobs=4)]: Done 600 out of 600 | elapsed: 377.0min finished\n"
     ]
    },
    {
     "name": "stdout",
     "output_type": "stream",
     "text": [
      "{'subsnp__n_snps': 2000, 'reg__subsample': 0.30000000000000004, 'reg__n_estimators': 900, 'reg__max_depth': 1000, 'reg__learning_rate': 0.1}\n",
      "0.6458333333333334\n",
      "Accuracy: 0.65 Recall: 0.68\n"
     ]
    }
   ],
   "source": [
    "from sklearn.ensemble import GradientBoostingClassifier\n",
    "gbc_random = RandomizedSearchCV(estimator = pipe_gbc, \n",
    "                               param_distributions = random_grid_gbc, \n",
    "                               n_iter = 200, \n",
    "                               cv = 3, \n",
    "                               verbose=10,  \n",
    "                               n_jobs = 4)\n",
    "\n",
    "# Fit the random search model\n",
    "gbc_random.fit(X_train, y_train)\n",
    "print(gbc_random.best_params_)\n",
    "best_gbc_random = gbc_random.best_estimator_\n",
    "#Predict the response for test dataset\n",
    "y_pred = best_gbc_random.predict(X_test)\n",
    "print(gbc_random.score(X_test, y_test))\n",
    "accuracy2=metrics.accuracy_score(y_test, y_pred)\n",
    "recall2=recall_score(y_test, y_pred)\n",
    "print(\"Accuracy:\",round(accuracy2,2),\"Recall:\",round(recall2,2))"
   ]
  },
  {
   "cell_type": "code",
   "execution_count": 62,
   "metadata": {},
   "outputs": [
    {
     "name": "stdout",
     "output_type": "stream",
     "text": [
      "[[395 190]\n",
      " [235 380]]\n",
      "              precision    recall  f1-score   support\n",
      "\n",
      "         1.0       0.63      0.68      0.65       585\n",
      "         2.0       0.67      0.62      0.64       615\n",
      "\n",
      "    accuracy                           0.65      1200\n",
      "   macro avg       0.65      0.65      0.65      1200\n",
      "weighted avg       0.65      0.65      0.65      1200\n",
      "\n",
      "0.6458333333333334\n"
     ]
    }
   ],
   "source": [
    "from sklearn.metrics import classification_report, confusion_matrix, accuracy_score\n",
    "\n",
    "print(confusion_matrix(y_test,y_pred))\n",
    "print(classification_report(y_test,y_pred))\n",
    "print(accuracy_score(y_test, y_pred))"
   ]
  },
  {
   "cell_type": "code",
   "execution_count": 63,
   "metadata": {},
   "outputs": [
    {
     "name": "stdout",
     "output_type": "stream",
     "text": [
      "Train Accuracy: 1.0 Recall: 1.0\n",
      "Test Accuracy: 0.65 Recall: 0.68\n"
     ]
    }
   ],
   "source": [
    "#measure overfitting\n",
    "y_train_pred = best_gbc_random.predict(X_train)\n",
    "accuracy_train=metrics.accuracy_score(y_train, y_train_pred)\n",
    "recall_train=recall_score(y_train, y_train_pred)\n",
    "print(\"Train Accuracy:\",round(accuracy_train,2),\"Recall:\",round(recall_train,2))\n",
    "\n",
    "y_test_pred = best_gbc_random.predict(X_test)\n",
    "accuracy_test=metrics.accuracy_score(y_test, y_test_pred)\n",
    "recall_test=recall_score(y_test, y_test_pred)\n",
    "print(\"Test Accuracy:\",round(accuracy_test,2),\"Recall:\",round(recall_test,2))"
   ]
  }
 ],
 "metadata": {
  "kernelspec": {
   "display_name": "Python 3",
   "language": "python",
   "name": "python3"
  },
  "language_info": {
   "codemirror_mode": {
    "name": "ipython",
    "version": 3
   },
   "file_extension": ".py",
   "mimetype": "text/x-python",
   "name": "python",
   "nbconvert_exporter": "python",
   "pygments_lexer": "ipython3",
   "version": "3.7.5"
  }
 },
 "nbformat": 4,
 "nbformat_minor": 2
}
